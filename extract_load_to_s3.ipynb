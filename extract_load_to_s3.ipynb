{
 "cells": [
  {
   "cell_type": "code",
   "execution_count": 27,
   "metadata": {},
   "outputs": [],
   "source": [
    "import gzip\n",
    "import os\n",
    "import requests\n",
    "import urllib\n",
    "from helper_functions import create_session"
   ]
  },
  {
   "cell_type": "code",
   "execution_count": 2,
   "metadata": {},
   "outputs": [],
   "source": [
    "session = create_session()\n",
    "s3 = session.client('s3')"
   ]
  },
  {
   "cell_type": "code",
   "execution_count": 3,
   "metadata": {},
   "outputs": [],
   "source": [
    "files = {\n",
    "    'https://covid19-lake.s3.us-east-2.amazonaws.com/enigma-jhu/csv/Enigma-JHU.csv.gz': 'enigma-jhu.csv',  # \n",
    "    'https://covid19-lake.s3.us-east-2.amazonaws.com/enigma-nytimes-data-in-usa/csv/us_county/us_county.csv': 'enigma-nyt-usa-counties.csv',  # NYT Data US Counties\n",
    "    'https://covid19-lake.s3.us-east-2.amazonaws.com/enigma-nytimes-data-in-usa/csv/us_states/us_states.csv': 'enigma-nyt-usa-states.csv',  # NYT Data US States\n",
    "    'https://covid19-lake.s3.us-east-2.amazonaws.com/rearc-covid-19-testing-data/csv/states_daily/states_daily.csv': 'rearc-states-daily-test.csv',  # Rearc USA States Daily Testing\n",
    "    'https://covid19-lake.s3.us-east-2.amazonaws.com/rearc-covid-19-testing-data/csv/us-total-latest/us.csv': 'rearc-usa-latest-total.csv',  # Rearc USA Total Latest Testing\n",
    "    'https://covid19-lake.s3.us-east-2.amazonaws.com/rearc-covid-19-testing-data/csv/us_daily/us_daily.csv': 'rearc-usa-daily-test.csv',  # Rearc USA Daily Testing \n",
    "    'https://covid19-lake.s3.us-east-2.amazonaws.com/rearc-usa-hospital-beds/json/usa-hospital-beds.geojson': 'rearc-usa-hospital-beds.json',  # Rearc USA Hospital Beds JSON\n",
    "    'https://covid19-lake.s3.us-east-2.amazonaws.com/static-datasets/csv/countrycode/CountryCodeQS.csv': 'static-country-codes.csv',  # Static Dataset Country Code\n",
    "    'https://covid19-lake.s3.us-east-2.amazonaws.com/static-datasets/csv/CountyPopulation/County_Population.csv': 'static-county-codes.csv',  # Static Dataset County Population\n",
    "    'https://covid19-lake.s3.us-east-2.amazonaws.com/static-datasets/csv/state-abv/states_abv.csv': 'static-state-codes.csv',  # Static Dataset State Abbreviation\n",
    "}"
   ]
  },
  {
   "cell_type": "code",
   "execution_count": null,
   "metadata": {},
   "outputs": [],
   "source": [
    "# Deleting files if necessary\n",
    "for file in files:\n",
    "    res = s3.delete_object(\n",
    "        Bucket='kc-covid-project',\n",
    "        Key=files[file].split('.')[0]\n",
    "    )\n",
    "    print(f'Status Code: {res[\"ResponseMetadata\"][\"HTTPStatusCode\"]}')"
   ]
  },
  {
   "cell_type": "code",
   "execution_count": null,
   "metadata": {},
   "outputs": [],
   "source": [
    "# Downloading files to data directory\n",
    "for file_key in files:\n",
    "    res = requests.get(file_key)\n",
    "    print(f'File: {file_key}')\n",
    "    print(f'Status Code: {res}')\n",
    "    if file_key.endswith('.csv'):\n",
    "        with open(f'./data/{files[file_key]}', 'wb') as reader:\n",
    "            reader.write(res.content)\n",
    "    else:\n",
    "        with urllib.request.urlopen(file_key) as res:\n",
    "            with gzip.GzipFile(fileobj=res) as uncompressed:\n",
    "                file_content = uncompressed.read()\n",
    "        with open(f'./data/{files[file_key]}', 'wb') as f:\n",
    "            f.write(file_content)\n",
    "    # Write files to S3 as objects\n",
    "    name = files[file_key].split(\".\")[0]\n",
    "    s3.put_object(\n",
    "        Bucket=\"kc-covid-project\",\n",
    "        Key=f'raw/{name}/{name}',\n",
    "        Body=res.content\n",
    "    )"
   ]
  },
  {
   "cell_type": "code",
   "execution_count": 14,
   "metadata": {},
   "outputs": [
    {
     "name": "stdout",
     "output_type": "stream",
     "text": [
      "enigma-jhu.csv\n",
      "enigma-nyt-usa-states.csv\n",
      "enigma-usa-counties.csv\n",
      "rearc-usa-daily-test.csv\n",
      "rearc-usa-daily-testing.csv\n",
      "rearc-usa-hospital-beds.json\n",
      "rearc-usa-latest-total.csv\n",
      "static-country-codes.csv\n",
      "static-county-codes.csv\n",
      "static-state-codes.csv\n"
     ]
    }
   ],
   "source": [
    "# Print files to check data directory\n",
    "for file in os.listdir('./data/'):\n",
    "    print(file)"
   ]
  }
 ],
 "metadata": {
  "kernelspec": {
   "display_name": "Python 3",
   "language": "python",
   "name": "python3"
  },
  "language_info": {
   "codemirror_mode": {
    "name": "ipython",
    "version": 3
   },
   "file_extension": ".py",
   "mimetype": "text/x-python",
   "name": "python",
   "nbconvert_exporter": "python",
   "pygments_lexer": "ipython3",
   "version": "3.11.3"
  },
  "orig_nbformat": 4
 },
 "nbformat": 4,
 "nbformat_minor": 2
}
