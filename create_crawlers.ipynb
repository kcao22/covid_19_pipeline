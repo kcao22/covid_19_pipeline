{
 "cells": [
  {
   "cell_type": "code",
   "execution_count": 20,
   "metadata": {},
   "outputs": [],
   "source": [
    "import boto3\n",
    "import json\n",
    "from helper_functions import create_session"
   ]
  },
  {
   "cell_type": "code",
   "execution_count": 25,
   "metadata": {},
   "outputs": [],
   "source": [
    "# Creating IAM Role with Glue full access and S3 full access. Required for crawler to function properly\n",
    "session = create_session()\n",
    "iam = session.client('iam')"
   ]
  },
  {
   "cell_type": "code",
   "execution_count": 26,
   "metadata": {},
   "outputs": [],
   "source": [
    "#Create role for Glue to assume, provide access to Glue and S3 in subsequent step\n",
    "assume_role_policy_document = json.dumps({\n",
    "            \"Version\": \"2012-10-17\",\n",
    "            \"Statement\": [\n",
    "                            {\n",
    "                                \"Effect\": \"Allow\",\n",
    "                                \"Principal\": {\n",
    "                                \"Service\": \"glue.amazonaws.com\"\n",
    "                                },\n",
    "                            \"Action\": \"sts:AssumeRole\"\n",
    "                            }\n",
    "                        ]\n",
    "                    })\n",
    "try:\n",
    "    res = iam.create_role(\n",
    "        RoleName='covid-project-glue-s3',\n",
    "        AssumeRolePolicyDocument=assume_role_policy_document\n",
    "        )\n",
    "    print(f'Status Code: {res[\"ResponseMetadata\"][\"HTTPStatusCode\"]}')\n",
    "except Exception as e:\n",
    "    print(e)"
   ]
  },
  {
   "cell_type": "code",
   "execution_count": 29,
   "metadata": {},
   "outputs": [],
   "source": [
    "# Attach policies\n",
    "try:\n",
    "    policies = [\n",
    "        'arn:aws:iam::aws:policy/AmazonS3FullAccess',  #S3 Full Access\n",
    "        'arn:aws:iam::aws:policy/service-role/AWSGlueServiceRole',  #Glue Service Role\n",
    "        'arn:aws:iam::aws:policy/AWSGlueConsoleFullAccess'  #Glue Console Full Access\n",
    "    ]\n",
    "    for policy in policies:\n",
    "        res = iam.attach_role_policy(\n",
    "            RoleName='covid-project-glue-s3',\n",
    "            PolicyArn=policy\n",
    "        )\n",
    "        print(f'Policy: {policy}\\nStatus Code: {res[\"ResponseMetadata\"][\"HTTPStatusCode\"]}')\n",
    "except Exception as e:\n",
    "    print(e)"
   ]
  },
  {
   "cell_type": "code",
   "execution_count": 31,
   "metadata": {},
   "outputs": [],
   "source": [
    "# Instantiate glue client object\n",
    "glue = session.client('glue')"
   ]
  },
  {
   "cell_type": "code",
   "execution_count": 48,
   "metadata": {},
   "outputs": [],
   "source": []
  },
  {
   "cell_type": "code",
   "execution_count": 32,
   "metadata": {},
   "outputs": [],
   "source": [
    "# Create glue database for crawlers to save glue catalog tables / schemas to\n",
    "# https://boto3.amazonaws.com/v1/documentation/api/latest/reference/services/glue/client/create_database.html\n",
    "# From documentation, default permissions typically not used in normal course of Glue operations.\n",
    "try:\n",
    "    res = glue.create_database(\n",
    "        DatabaseInput={\n",
    "            'Name':'aws-covid-project',\n",
    "            'Description': 'Database for housing crawled schema of datasets from AWS Covid-19 Data Lake'\n",
    "        }\n",
    "    )\n",
    "    print(f'Status Code: {res[\"ResponseMetadata\"][\"HTTPStatusCode\"]}')\n",
    "except Exception as e:\n",
    "    print(e)"
   ]
  },
  {
   "cell_type": "code",
   "execution_count": 56,
   "metadata": {},
   "outputs": [
    {
     "name": "stdout",
     "output_type": "stream",
     "text": [
      "enigma-jhu\n",
      "Status Code: 200\n",
      "enigma-nyt-usa-states\n",
      "Status Code: 200\n",
      "enigma-usa-counties\n",
      "Status Code: 200\n",
      "rearc-usa-daily-test\n",
      "Status Code: 200\n",
      "rearc-usa-daily-testing\n",
      "Status Code: 200\n",
      "rearc-usa-hospital-beds\n",
      "Status Code: 200\n",
      "rearc-usa-latest-total\n",
      "Status Code: 200\n",
      "static-country-codes\n",
      "Status Code: 200\n",
      "static-county-codes\n",
      "Status Code: 200\n",
      "static-state-codes\n",
      "Status Code: 200\n"
     ]
    }
   ],
   "source": [
    "# Create glue crawlers and attach above created policy to each crawler for Glue / S3 full access\n",
    "\n",
    "# Get Role ARN\n",
    "role_arn = None\n",
    "for role in iam.list_roles()['Roles']:\n",
    "    if role['RoleName'] == 'covid-project-glue-s3':\n",
    "        role_arn = role['Arn']\n",
    "        break\n",
    "    else:\n",
    "        continue\n",
    "\n",
    "try:\n",
    "    # Store necessary parameters in variables for each target object in S3\n",
    "    s3 = session.client('s3')\n",
    "    bucket_name = 'kc-covid-project'\n",
    "    database_name = 'aws-covid-project'\n",
    "\n",
    "    for obj in s3.list_objects(Bucket=bucket_name)['Contents']:\n",
    "        obj_key = obj['Key']\n",
    "        s3_path = f's3://{bucket_name}/{obj_key}'\n",
    "\n",
    "        # Create crawler for each\n",
    "        res = glue.create_crawler(\n",
    "            Name=obj_key,\n",
    "            Role=role_arn,\n",
    "            DatabaseName=database_name,\n",
    "            Description=f'Crawler for {obj_key} dataset from AWS Covid-19 Data Lake',\n",
    "            Targets={\n",
    "                'S3Targets': [\n",
    "                    {\n",
    "                    'Path': s3_path\n",
    "                    }\n",
    "                ]\n",
    "            },\n",
    "            SchemaChangePolicy={\n",
    "                'UpdateBehavior': 'LOG',\n",
    "                'DeleteBehavior': 'LOG'\n",
    "            },\n",
    "            RecrawlPolicy={\n",
    "                'RecrawlBehavior':'CRAWL_NEW_FOLDERS_ONLY'\n",
    "            },\n",
    "            LineageConfiguration={\n",
    "                'CrawlerLineageSettings': 'DISABLE'\n",
    "            }\n",
    "        )\n",
    "        print(obj_key)\n",
    "        print(f'Status Code: {res[\"ResponseMetadata\"][\"HTTPStatusCode\"]}')\n",
    "except Exception as e:\n",
    "    print(e)"
   ]
  },
  {
   "cell_type": "code",
   "execution_count": null,
   "metadata": {},
   "outputs": [],
   "source": []
  },
  {
   "cell_type": "code",
   "execution_count": null,
   "metadata": {},
   "outputs": [],
   "source": []
  }
 ],
 "metadata": {
  "kernelspec": {
   "display_name": "awscovid",
   "language": "python",
   "name": "python3"
  },
  "language_info": {
   "codemirror_mode": {
    "name": "ipython",
    "version": 3
   },
   "file_extension": ".py",
   "mimetype": "text/x-python",
   "name": "python",
   "nbconvert_exporter": "python",
   "pygments_lexer": "ipython3",
   "version": "3.11.3"
  },
  "orig_nbformat": 4
 },
 "nbformat": 4,
 "nbformat_minor": 2
}
